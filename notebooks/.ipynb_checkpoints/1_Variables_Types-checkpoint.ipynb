{
 "cells": [
  {
   "cell_type": "markdown",
   "metadata": {},
   "source": [
    "To open this notebook in Google Colab and start coding, click on the Colab icon below.\n",
    "\n",
    "<table style=\"border:2px solid orange\" align=\"left\">\n",
    "  <td style=\"border:2px solid orange \">\n",
    "    <a target=\"_blank\" href=\"https://colab.research.google.com/github/neuefische/ds-welcome-package/blob/main/programming/1_Python_Variables_Types.ipynb\"><img src=\"https://www.tensorflow.org/images/colab_logo_32px.png\" />Run in Google Colab</a>\n",
    "  </td>\n",
    " </table>"
   ]
  },
  {
   "cell_type": "markdown",
   "metadata": {},
   "source": [
    "**Source: https://github.com/neuefische/ds-welcome-package/tree/main/programming**"
   ]
  },
  {
   "cell_type": "markdown",
   "metadata": {
    "id": "g01JrxKRM2vL"
   },
   "source": [
    "---\n",
    "# Intro to Python"
   ]
  },
  {
   "cell_type": "markdown",
   "metadata": {
    "id": "g01JrxKRM2vL"
   },
   "source": [
    "Welcome to your first notebook on python! \n",
    "\n",
    "In this notebook you will start your journey of becoming a Pythonista and Data Scientist. If you're completely new to programming this is the right place to start. But even if you are already familiar with Python or some of its concepts it will be a good revision to refresh your knowledge. \n",
    "\n",
    "At the end of the notebook you will...\n",
    "* know how to use python as a <span style=\"color:red\">calculator</span>.\n",
    "* be familiar with pythons concept of <span style=\"color:red\">variables</span>.\n",
    "* have an overview over Python's <span style=\"color:red\">data types</span>."
   ]
  },
  {
   "cell_type": "markdown",
   "metadata": {
    "id": "IJcGK6R8M2vM"
   },
   "source": [
    "## A brief little introduction...\n",
    "\n",
    "Python was developed in the late 1980s by Guido van Rossum. It is an interpreted, high-level and general purpose Python strives for a <span style=\"color:red\">simpler, less-cluttered syntax and grammar</span>. Nevertheless it is one of the (if not to say the) preferred and <span style=\"color:red\">most used language</span> when it comes to Data Science. Its versatility and flexibility in combination with its easy to learn and clean syntax makes it a perfect language for programming beginners. \n",
    "\n",
    "Enough said, let's directly dive into the first lesson. "
   ]
  },
  {
   "cell_type": "markdown",
   "metadata": {
    "id": "Uz23ukSCM2vR"
   },
   "source": [
    "## Numeric Operations\n",
    "\n",
    "At its base level, Python is really just an <span style=\"color:red\">awesome calculator</span> that can do way more stuff than addition and subtraction. But, let's focus on that functionality for now.\n",
    "\n",
    "All of the simple operations that you think should be available are available. <span style=\"color:red\">Addition, subtraction, multiplication, division and exponentiation</span> are all accessible via + , - , * , / and ** , respectively."
   ]
  },
  {
   "cell_type": "code",
   "execution_count": null,
   "metadata": {
    "colab": {
     "base_uri": "https://localhost:8080/"
    },
    "id": "iE3ERx9pNhr-",
    "outputId": "48e68e5b-a4ee-4c42-f477-9d372e92ad1a"
   },
   "outputs": [],
   "source": [
    "7 + 8"
   ]
  },
  {
   "cell_type": "code",
   "execution_count": null,
   "metadata": {
    "colab": {
     "base_uri": "https://localhost:8080/"
    },
    "id": "G_dY7ba6NoMm",
    "outputId": "c4221237-1567-4ffd-aa32-1d92b375706b"
   },
   "outputs": [],
   "source": [
    "7 - 8"
   ]
  },
  {
   "cell_type": "code",
   "execution_count": null,
   "metadata": {
    "colab": {
     "base_uri": "https://localhost:8080/"
    },
    "id": "kuYct8w5NpbK",
    "outputId": "d9db79bd-fb76-4ee9-a036-7e7ec13ac239"
   },
   "outputs": [],
   "source": [
    "7 * 8"
   ]
  },
  {
   "cell_type": "code",
   "execution_count": null,
   "metadata": {
    "colab": {
     "base_uri": "https://localhost:8080/"
    },
    "id": "aqEwvZ4CNqfp",
    "outputId": "beb6f535-6d2b-48ef-f254-5a155012b9b8"
   },
   "outputs": [],
   "source": [
    "7 / 8"
   ]
  },
  {
   "cell_type": "code",
   "execution_count": null,
   "metadata": {
    "colab": {
     "base_uri": "https://localhost:8080/"
    },
    "id": "_5dDFIvZNr6g",
    "outputId": "dc1c6668-5b54-42c7-bbb3-6a95ae41bad1"
   },
   "outputs": [],
   "source": [
    "7 ** 8"
   ]
  },
  {
   "cell_type": "markdown",
   "metadata": {
    "id": "Odr77fECOt0J"
   },
   "source": [
    "You can change the order in which operations get performed by using parenthesis (), just as you can in algebra."
   ]
  },
  {
   "cell_type": "code",
   "execution_count": null,
   "metadata": {
    "colab": {
     "base_uri": "https://localhost:8080/"
    },
    "id": "ANgCbnEcOutU",
    "outputId": "7eedb534-5e12-42a8-8dbb-59006413953d"
   },
   "outputs": [],
   "source": [
    "4 + 5 * 3"
   ]
  },
  {
   "cell_type": "code",
   "execution_count": null,
   "metadata": {
    "colab": {
     "base_uri": "https://localhost:8080/"
    },
    "id": "FSJz2eBCOwZR",
    "outputId": "ae99859a-983d-4e7f-dff4-0a4180e2be47"
   },
   "outputs": [],
   "source": [
    "(4 + 5) * 3"
   ]
  },
  {
   "cell_type": "markdown",
   "metadata": {
    "id": "oLsL77UovgvS"
   },
   "source": [
    "At this point we also want to introduce some simple functions which you will encounter during your daily work as a Data Scientist. (Don't worry if you don't know what a function is. We will cover this in another notebook.)\n",
    "\n",
    "`abs()`, `min()`, `max()` and `round()` are useful little functions which will make your life a lot easier. As their names already imply `abs()` will return the absolut value of a number, `min()` and `max()` will return the minimum respectively maximum of a bunch of numbers and `round()` will round a number to a given amount of decimals."
   ]
  },
  {
   "cell_type": "code",
   "execution_count": null,
   "metadata": {
    "colab": {
     "base_uri": "https://localhost:8080/"
    },
    "id": "32LPzJNUvu__",
    "outputId": "e615a593-ff59-4b0a-e345-529283844afd"
   },
   "outputs": [],
   "source": [
    "abs(3.14)"
   ]
  },
  {
   "cell_type": "code",
   "execution_count": null,
   "metadata": {
    "colab": {
     "base_uri": "https://localhost:8080/"
    },
    "id": "w27ravqvugoq",
    "outputId": "9b756bb1-8d96-4d84-afb5-0ee79e1781fc"
   },
   "outputs": [],
   "source": [
    "abs(-3.41)"
   ]
  },
  {
   "cell_type": "code",
   "execution_count": null,
   "metadata": {
    "colab": {
     "base_uri": "https://localhost:8080/"
    },
    "id": "R0-wIjfM_J7T",
    "outputId": "7dc624f8-852d-4e7f-d366-099f0255ad31"
   },
   "outputs": [],
   "source": [
    "min(3, 5, 1, 6, 8, 9)"
   ]
  },
  {
   "cell_type": "code",
   "execution_count": null,
   "metadata": {
    "colab": {
     "base_uri": "https://localhost:8080/"
    },
    "id": "FqBtOsgv_M5-",
    "outputId": "54d87491-4106-4d6c-e907-bd1f0567798e"
   },
   "outputs": [],
   "source": [
    "max(3, 5, 1, 6, 8, 9)"
   ]
  },
  {
   "cell_type": "code",
   "execution_count": null,
   "metadata": {
    "colab": {
     "base_uri": "https://localhost:8080/"
    },
    "id": "XRhuZMJj-9vt",
    "outputId": "9fba2a6c-50e6-45f9-aa5f-21a4fba091d5"
   },
   "outputs": [],
   "source": [
    "round(5.23412, 2)   # you can specify the amount of decimals after the comma"
   ]
  },
  {
   "cell_type": "markdown",
   "metadata": {
    "id": "L4n2RJ7aO1OC"
   },
   "source": [
    "### ❓ Questions:\n",
    "\n",
    "Create new cells and compute the results of the following computations:\n",
    "\n",
    "1. 8.0 - 7\n",
    "2. 8 * 0.25\n",
    "3. 5 ** 2\n",
    "4. round(6.293764, 3)"
   ]
  },
  {
   "cell_type": "code",
   "execution_count": null,
   "metadata": {},
   "outputs": [],
   "source": [
    "# Your solution:\n"
   ]
  },
  {
   "cell_type": "markdown",
   "metadata": {
    "id": "8FsAtR0tQrhI"
   },
   "source": [
    "## Variables"
   ]
  },
  {
   "cell_type": "markdown",
   "metadata": {
    "id": "Xi9hR-sgRPji"
   },
   "source": [
    "One of the most powerful constructs in programming is the ability to <span style=\"color:red\">store arbitrary values in what we call variables</span>. You can think of variable assignment as giving a name to something so that it can be accessed later by different parts of your program.\n",
    "\n",
    "In Python, <span style=\"color:red\">variable assignment occurs with the `=` operator</span>. To assign a value to a variable name (i.e. declare it), you simply put the variable name on the left side of the = and the value you want to associate with that variable name on the right side. Once this has happened, you can access the value in the variable simply by using it's name somewhere later in your code."
   ]
  },
  {
   "cell_type": "code",
   "execution_count": null,
   "metadata": {
    "id": "y2ImxFNdQmU8"
   },
   "outputs": [],
   "source": [
    "x = 5\n",
    "y = 2"
   ]
  },
  {
   "cell_type": "code",
   "execution_count": null,
   "metadata": {
    "colab": {
     "base_uri": "https://localhost:8080/"
    },
    "id": "af-trpuORRP-",
    "outputId": "e48ec73a-2053-42c0-97ef-f428f065db15"
   },
   "outputs": [],
   "source": [
    "x"
   ]
  },
  {
   "cell_type": "code",
   "execution_count": null,
   "metadata": {
    "colab": {
     "base_uri": "https://localhost:8080/"
    },
    "id": "z63TMHsVRRiT",
    "outputId": "8ca9c591-9688-47f2-acd6-f235da4cc1af"
   },
   "outputs": [],
   "source": [
    "x - 4"
   ]
  },
  {
   "cell_type": "code",
   "execution_count": null,
   "metadata": {
    "colab": {
     "base_uri": "https://localhost:8080/"
    },
    "id": "fqjPyjYvRRvX",
    "outputId": "25b007e3-6eef-4d2b-e344-013806b1d5ad"
   },
   "outputs": [],
   "source": [
    "x + y"
   ]
  },
  {
   "cell_type": "markdown",
   "metadata": {
    "id": "uPdw_CEZRuz4"
   },
   "source": [
    "A large part of variables' power is the fact that they can change (vary, if you will). This allows us to use a single variable name to keep track of a specific thing throughout the life of a program. Remember how we assigned the value 5 to x above? The exact same syntax can be used to change the value stored in the variable.\n",
    "\n",
    "Say we want to make the value of x five more than it currently is. All we need to do is have x be assigned the value that results from adding 5 to x."
   ]
  },
  {
   "cell_type": "code",
   "execution_count": null,
   "metadata": {
    "colab": {
     "base_uri": "https://localhost:8080/"
    },
    "id": "uN1KtyetSJ82",
    "outputId": "b6cd096b-3af9-4b4e-9a7a-a0aebb3b3ac1"
   },
   "outputs": [],
   "source": [
    "x = x + 5\n",
    "x"
   ]
  },
  {
   "cell_type": "markdown",
   "metadata": {
    "id": "CRpsOOxkSmOK"
   },
   "source": [
    "Changing variables in this way occurs so commonly that there is a built-in shorthand for it. The result of the first line could have been achieved with x += 5. This syntactic sugar is available for all the simple operations +, -, *, /, **, and % that we covered earlier."
   ]
  },
  {
   "cell_type": "markdown",
   "metadata": {
    "id": "yXYlR6fNaXBT"
   },
   "source": [
    "## Types\n",
    "\n",
    "You successfully used python as a simple calculator and learned how to use variables! The last topic we will cover in this notebook are data types. \n",
    "\n",
    "Data type is an important concept in programming. <span style=\"color:red\">Variables can store data in different types and different types can do different things.</span>\n",
    "\n",
    "We will cover some of Python's built in data types in the following section. "
   ]
  },
  {
   "cell_type": "markdown",
   "metadata": {
    "id": "IPi_Wa9hM2vM"
   },
   "source": [
    "### Numeric types\n",
    "\n",
    "Python has a lot of different data types. You've already used some of the base numeric types, which are built into Python. All of those represent a very simple idea, numbers. Numbers can be either <span style=\"color:red\">`ints`, short for integers, `floats`, short for floating point/decimal numbers</span>, or `complex`, which contain real and imaginary parts stored as floats."
   ]
  },
  {
   "cell_type": "code",
   "execution_count": null,
   "metadata": {
    "colab": {
     "base_uri": "https://localhost:8080/"
    },
    "id": "Fxd_uzIBM2vN",
    "outputId": "8b5da531-d5ee-45b1-a862-0793904749ff"
   },
   "outputs": [],
   "source": [
    "7   # int "
   ]
  },
  {
   "cell_type": "code",
   "execution_count": null,
   "metadata": {
    "colab": {
     "base_uri": "https://localhost:8080/"
    },
    "id": "9TPXYuXZM2vO",
    "outputId": "f2f497a7-3410-4d2b-e452-5d491ddfa076"
   },
   "outputs": [],
   "source": [
    "3.5   # float"
   ]
  },
  {
   "cell_type": "code",
   "execution_count": null,
   "metadata": {
    "colab": {
     "base_uri": "https://localhost:8080/"
    },
    "id": "JEh5Ee-1M2vO",
    "outputId": "b1fbdacc-9e57-4519-c7cb-3f199d2077b8"
   },
   "outputs": [],
   "source": [
    "complex(3, 6)   # complex"
   ]
  },
  {
   "cell_type": "markdown",
   "metadata": {
    "id": "yGgfhspsd44a"
   },
   "source": [
    "To inspect what type Python thinks a numeric (or anything else) is, you can pass it to the <span style=\"color:red\">type()</span> function. Let's see what we get out when we pass numbers of various types to this function."
   ]
  },
  {
   "cell_type": "code",
   "execution_count": null,
   "metadata": {
    "colab": {
     "base_uri": "https://localhost:8080/"
    },
    "id": "pOndrc6-M2vP",
    "outputId": "0ef6c166-68ac-4728-dfc7-7628594cd906"
   },
   "outputs": [],
   "source": [
    "type(7)"
   ]
  },
  {
   "cell_type": "code",
   "execution_count": null,
   "metadata": {
    "colab": {
     "base_uri": "https://localhost:8080/"
    },
    "id": "MUNM_MS9M2vP",
    "outputId": "c29675ec-3102-4146-e590-ce1a368182b9"
   },
   "outputs": [],
   "source": [
    "type(3.5)"
   ]
  },
  {
   "cell_type": "code",
   "execution_count": null,
   "metadata": {
    "colab": {
     "base_uri": "https://localhost:8080/"
    },
    "id": "YcXj8lzIM2vQ",
    "outputId": "c97a7788-fec1-4348-81e0-8f15bbb346ba"
   },
   "outputs": [],
   "source": [
    "type(complex(3, 6))"
   ]
  },
  {
   "cell_type": "markdown",
   "metadata": {
    "id": "9zL2XNDDM2vQ"
   },
   "source": [
    "As you can see, Python assumes that a number with no decimal point is an `int`, those with a decimal point a `float`, and (surprise!) those from the complex() constructor as `complex`.\n",
    "\n",
    "Frequently, these subtle differences wont matter too much. However, there will be times when this implementation detail will make you think that something will work, when really it won't. Knowing how to check the type of something will help you solve any of these potential problems."
   ]
  },
  {
   "cell_type": "markdown",
   "metadata": {
    "id": "lYACCkuAd_U-"
   },
   "source": [
    "### String\n",
    "\n",
    "Besides numeric types Python has a special type for text. This data type called `string` or short <span style=\"color:red\">`str` represents sequences of characters</span>. A string can contain as many characters as you want. While other programming languages have a special type called `char` for single characters, in Python single characters are also designated as `string`. Strings can also be empty or contain numbers. \n",
    "To make it clear for Python that something is a string you can use double  `\" \"` or single `' '` quotes. All characters between an opening delimiter and a matching closing delimiter are part of the string."
   ]
  },
  {
   "cell_type": "code",
   "execution_count": null,
   "metadata": {
    "colab": {
     "base_uri": "https://localhost:8080/",
     "height": 35
    },
    "id": "ir42IRTJgX3M",
    "outputId": "a65610d5-c845-4fb5-99a3-d7f0eed3d3f7"
   },
   "outputs": [],
   "source": [
    "\"Welcome at neuefische!\""
   ]
  },
  {
   "cell_type": "code",
   "execution_count": null,
   "metadata": {
    "colab": {
     "base_uri": "https://localhost:8080/",
     "height": 35
    },
    "id": "MoZ-rybkgcYN",
    "outputId": "798c32aa-0013-44ff-cf4a-85b97ead0273"
   },
   "outputs": [],
   "source": [
    "'We are looking forward to meeting you all soon :)'"
   ]
  },
  {
   "cell_type": "code",
   "execution_count": null,
   "metadata": {
    "colab": {
     "base_uri": "https://localhost:8080/"
    },
    "id": "GgLacSa6gQaQ",
    "outputId": "9840f36f-31fb-48f0-fe00-498b6c63ed64"
   },
   "outputs": [],
   "source": [
    "type(\"We hope you are also excited.\")"
   ]
  },
  {
   "cell_type": "code",
   "execution_count": null,
   "metadata": {
    "colab": {
     "base_uri": "https://localhost:8080/"
    },
    "id": "DCCI7lNl5k_1",
    "outputId": "b361b6c0-f68b-451f-b0c9-dda4ef443711"
   },
   "outputs": [],
   "source": [
    "type('')"
   ]
  },
  {
   "cell_type": "code",
   "execution_count": null,
   "metadata": {
    "colab": {
     "base_uri": "https://localhost:8080/"
    },
    "id": "-oqSpun2gwz_",
    "outputId": "6f9e20d0-eb1c-4066-a9e0-c5762f15f4e5"
   },
   "outputs": [],
   "source": [
    "type(\"A\")"
   ]
  },
  {
   "cell_type": "code",
   "execution_count": null,
   "metadata": {
    "colab": {
     "base_uri": "https://localhost:8080/"
    },
    "id": "hn-h1i-KgsIh",
    "outputId": "17ab5873-8683-4d3f-b1d6-68ed3744d17e"
   },
   "outputs": [],
   "source": [
    "type(\"8128\")"
   ]
  },
  {
   "cell_type": "markdown",
   "metadata": {},
   "source": [
    "You can use arithmetic operations like `+` or `*`  also on strings. There is a lot more you can do with strings and we could fill a whole notebook only with string formatting and manipulation. But no worries, you will learn a lot about strings while you'll use them. "
   ]
  },
  {
   "cell_type": "code",
   "execution_count": null,
   "metadata": {},
   "outputs": [],
   "source": [
    "\"neue\" + \"fische\""
   ]
  },
  {
   "cell_type": "code",
   "execution_count": null,
   "metadata": {},
   "outputs": [],
   "source": [
    "\"Bam\" * 3"
   ]
  },
  {
   "cell_type": "markdown",
   "metadata": {
    "id": "yyJ8OZ2U5z2h"
   },
   "source": [
    "### Bool\n",
    "\n",
    "\n",
    "Python has a type of variable called <span style=\"color:red\">`bool`. It has two possible values: `True` and `False`.</span>"
   ]
  },
  {
   "cell_type": "code",
   "execution_count": null,
   "metadata": {
    "colab": {
     "base_uri": "https://localhost:8080/"
    },
    "id": "qwda3_Vb56Wp",
    "outputId": "b8fa1e08-1580-4064-ea2f-b33c3d40cf04"
   },
   "outputs": [],
   "source": [
    "True"
   ]
  },
  {
   "cell_type": "code",
   "execution_count": null,
   "metadata": {
    "colab": {
     "base_uri": "https://localhost:8080/"
    },
    "id": "zThO9Cmd58Kn",
    "outputId": "0d3e67e2-9169-4561-e153-64de4b2ea752"
   },
   "outputs": [],
   "source": [
    "False"
   ]
  },
  {
   "cell_type": "code",
   "execution_count": null,
   "metadata": {
    "colab": {
     "base_uri": "https://localhost:8080/"
    },
    "id": "OUwADLGQ58D9",
    "outputId": "2374b159-c2d5-4958-bed0-a6dd2b77384a"
   },
   "outputs": [],
   "source": [
    "type(True)"
   ]
  },
  {
   "cell_type": "code",
   "execution_count": null,
   "metadata": {
    "colab": {
     "base_uri": "https://localhost:8080/"
    },
    "id": "hwmCWX6S5780",
    "outputId": "227b9425-2a36-4669-d99d-b8679379e839"
   },
   "outputs": [],
   "source": [
    "type(False)"
   ]
  },
  {
   "cell_type": "markdown",
   "metadata": {
    "id": "_ZzBYIPE6w55"
   },
   "source": [
    "Instead of putting `True` or `False` directly into our code, we usually get those boolean values from <span style=\"color:red\">comparison operations</span>, which can either evaluate to `True` or `False`. The following table gives an overview over the possible comparison operations and the operators used in Python. \n",
    "\n",
    "| Operator | Operation | Description |\n",
    "|----|-----------|-------------|\n",
    "| == | a == b    | a equal to b | \n",
    "| < | a < b    | a less than b | \n",
    "| <= | a <= b   | a less than or equal to b |\n",
    "| > | a > b    | a greater than b  | \n",
    "| >= | a >= b  | a greater than or equal to b | \n",
    "| != | a != b | a not equal to b | "
   ]
  },
  {
   "cell_type": "code",
   "execution_count": null,
   "metadata": {
    "colab": {
     "base_uri": "https://localhost:8080/"
    },
    "id": "9m2NgPSZu1rJ",
    "outputId": "195dd21a-ad70-4566-b898-d3d02f0103de"
   },
   "outputs": [],
   "source": [
    "1 == 1"
   ]
  },
  {
   "cell_type": "code",
   "execution_count": null,
   "metadata": {
    "colab": {
     "base_uri": "https://localhost:8080/"
    },
    "id": "E138BHyM8ZUV",
    "outputId": "93fc120d-6467-43cf-8a63-74853c27eccf"
   },
   "outputs": [],
   "source": [
    "7 < 5"
   ]
  },
  {
   "cell_type": "code",
   "execution_count": null,
   "metadata": {
    "colab": {
     "base_uri": "https://localhost:8080/"
    },
    "id": "56sydtXu8bp1",
    "outputId": "bbc0cf6f-5678-427a-cb90-972f491d7289"
   },
   "outputs": [],
   "source": [
    "3 >= 3"
   ]
  },
  {
   "cell_type": "markdown",
   "metadata": {
    "id": "OnhN68nHILl5"
   },
   "source": [
    "### Further data types\n",
    "\n",
    "Other built in data types are:\n",
    "\n",
    "* sequence types like `list`, `tuple`, `range`\n",
    "* mapping type like `dict`\n",
    "* set types like `set` or `frozenset`\n",
    "* binary types like `bytes`, `bytearray`, `memoryview`\n",
    "\n",
    "We will not cover those types in detail in this notebook. But no worries, you will encounter most of them in the other notebooks or during the bootcamp. "
   ]
  },
  {
   "cell_type": "markdown",
   "metadata": {},
   "source": [
    "### ❓ Questions:\n",
    "\n",
    "Determine the type of the following:\n",
    "\n",
    "1. 231.54\n",
    "2. True\n",
    "3. 96\n",
    "4. \"Hello\"\n",
    "5. \"203 + 45i\""
   ]
  },
  {
   "cell_type": "code",
   "execution_count": null,
   "metadata": {},
   "outputs": [],
   "source": [
    "# Your solution:\n"
   ]
  },
  {
   "cell_type": "markdown",
   "metadata": {
    "id": "dtWb0GXCKOem"
   },
   "source": [
    "## Summary\n",
    "\n",
    "Congratulations! You've reached the end of the first Python notebook. \n",
    "\n",
    "Here is what you should be familiar with by now:\n",
    "* how to use Python as a simple calculator\n",
    "* what variables are and how to assign them\n",
    "* what the data types `int`, `float`, `complex`, `str` and `bool` are "
   ]
  }
 ],
 "metadata": {
  "colab": {
   "name": "Intro_Python.ipynb",
   "provenance": []
  },
  "kernelspec": {
   "display_name": "Python 3 (ipykernel)",
   "language": "python",
   "name": "python3"
  },
  "language_info": {
   "codemirror_mode": {
    "name": "ipython",
    "version": 3
   },
   "file_extension": ".py",
   "mimetype": "text/x-python",
   "name": "python",
   "nbconvert_exporter": "python",
   "pygments_lexer": "ipython3",
   "version": "3.11.5"
  }
 },
 "nbformat": 4,
 "nbformat_minor": 4
}
