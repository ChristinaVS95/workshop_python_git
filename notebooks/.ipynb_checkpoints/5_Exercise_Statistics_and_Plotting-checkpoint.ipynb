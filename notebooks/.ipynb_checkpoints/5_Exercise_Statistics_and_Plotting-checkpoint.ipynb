{
 "cells": [
  {
   "cell_type": "markdown",
   "metadata": {},
   "source": [
    "# Exercise: Statistics and Plotting in Python"
   ]
  },
  {
   "cell_type": "markdown",
   "metadata": {},
   "source": [
    "# Load packages"
   ]
  },
  {
   "cell_type": "code",
   "execution_count": null,
   "metadata": {},
   "outputs": [],
   "source": [
    "import numpy as np\n",
    "import pandas as pd\n",
    "import pingouin as pg\n",
    "\n",
    "import matplotlib.pyplot as plt\n",
    "import seaborn as sns\n",
    "\n",
    "import warnings\n",
    "warnings.filterwarnings(\"ignore\", category=UserWarning)\n",
    "warnings.filterwarnings(\"ignore\", category=FutureWarning)"
   ]
  },
  {
   "cell_type": "markdown",
   "metadata": {
    "slideshow": {
     "slide_type": "subslide"
    }
   },
   "source": [
    "# Dataset\n",
    "\n",
    "Let's create another fictional dataset:\n",
    "\n",
    "- **subject**: Unique subject ID including group label and number.\n",
    "- **group**: Diagnostic group — MDD (Major Depressive Disorder), BD (Bipolar Disorder), or HC (Healthy Control).\n",
    "- **sex**: Biological sex (m or w).\n",
    "- **age**: Age in years (group-specific realistic means with variation).\n",
    "- **diet**: Reported diet, either mediterranean or western.\n",
    "- **season**: Within-subject variable — whether the data point was collected in summer or winter.\n",
    "- **SleepScore**: Subjective sleep quality on a scale from 1 (poor) to 10 (excellent), group-specific.\n",
    "- **Fatigue**: Daytime fatigue on a scale from 1 (none) to 10 (severe), inversely related to SleepScore plus noise.\n",
    "- **KL**: Concentration performance score (from the d2 test), realistic range (60–130), group-specific.\n",
    "- **HAMD**: Depression severity (Hamilton Depression Rating Scale, 0–35), highest in MDD, then BD, then HC.\n",
    "\n",
    "**Run the code below to generate the dataset:**"
   ]
  },
  {
   "cell_type": "code",
   "execution_count": null,
   "metadata": {},
   "outputs": [],
   "source": [
    "import numpy as np\n",
    "import pandas as pd\n",
    "\n",
    "np.random.seed(42)\n",
    "\n",
    "n_mdd = 40\n",
    "n_bd = 40\n",
    "n_hc = 40\n",
    "\n",
    "groups = ['MDD'] * n_mdd + ['BD'] * n_bd + ['HC'] * n_hc\n",
    "sexes = np.random.choice(['m', 'w'], size=n_mdd + n_bd + n_hc)\n",
    "ages_mdd = np.random.normal(45, 7, n_mdd)\n",
    "ages_bd = np.random.normal(40, 7, n_bd)\n",
    "ages_hc = np.random.normal(35, 7, n_hc)\n",
    "ages = np.round(np.concatenate([ages_mdd, ages_bd, ages_hc]), 1)\n",
    "\n",
    "diets = np.random.choice(['mediterranean', 'western'], size=n_mdd + n_bd + n_hc)\n",
    "\n",
    "subjects = [f\"{g}_{i+1}\" for g, i in zip(\n",
    "    np.repeat(['MDD', 'BD', 'HC'], [n_mdd, n_bd, n_hc]),\n",
    "    range(n_mdd + n_bd + n_hc)\n",
    ")]\n",
    "\n",
    "season = ['summer', 'winter']\n",
    "subject_list = []\n",
    "group_list = []\n",
    "sex_list = []\n",
    "age_list = []\n",
    "diet_list = []\n",
    "season_list = []\n",
    "\n",
    "for i in range(len(subjects)):\n",
    "    for s in season:\n",
    "        subject_list.append(subjects[i])\n",
    "        group_list.append(groups[i])\n",
    "        sex_list.append(sexes[i])\n",
    "        age_list.append(ages[i])\n",
    "        diet_list.append(diets[i])\n",
    "        season_list.append(s)\n",
    "\n",
    "df = pd.DataFrame({\n",
    "    'subject': subject_list,\n",
    "    'group': group_list,\n",
    "    'sex': sex_list,\n",
    "    'age': age_list,\n",
    "    'diet': diet_list,\n",
    "    'season': season_list\n",
    "})\n",
    "\n",
    "# Function to simulate variables with group and season effects\n",
    "def simulate_sleepscore(row):\n",
    "    base = {'MDD': 4, 'BD': 5, 'HC': 7}[row['group']]\n",
    "    # Season effect: slightly better sleep in summer\n",
    "    season_effect = 0.5 if row['season'] == 'summer' else -0.5\n",
    "    noise = np.random.normal(0, 1)\n",
    "    val = base + season_effect + noise\n",
    "    return np.clip(val, 1, 10)\n",
    "\n",
    "df['SleepScore'] = df.apply(simulate_sleepscore, axis=1)\n",
    "df['Fatigue'] = 11 - df['SleepScore'] + np.random.normal(0, 1, size=len(df))\n",
    "df['Fatigue'] = df['Fatigue'].clip(1, 10)\n",
    "\n",
    "# KL (concentration performance)\n",
    "def simulate_kl(row):\n",
    "    base = {'MDD': 75, 'BD': 90, 'HC': 110}[row['group']]\n",
    "    season_effect = 2 if row['season'] == 'summer' else -2\n",
    "    noise = np.random.normal(0, 8)\n",
    "    val = base + season_effect + noise\n",
    "    return np.clip(val, 60, 130)\n",
    "\n",
    "df['KL'] = df.apply(simulate_kl, axis=1)\n",
    "\n",
    "# HAMD (depression severity)\n",
    "def simulate_hamd(row):\n",
    "    base = {'MDD': 22, 'BD': 15, 'HC': 5}[row['group']]\n",
    "    noise = np.random.normal(0, 4)\n",
    "    val = base + noise\n",
    "    return np.clip(val, 0, 35)\n",
    "\n",
    "df['HAMD'] = df.apply(simulate_hamd, axis=1)\n",
    "\n",
    "df.reset_index(drop=True, inplace=True)\n",
    "data=df\n",
    "data.head(10)"
   ]
  },
  {
   "cell_type": "markdown",
   "metadata": {},
   "source": [
    " "
   ]
  },
  {
   "cell_type": "markdown",
   "metadata": {},
   "source": [
    " "
   ]
  },
  {
   "cell_type": "markdown",
   "metadata": {
    "slideshow": {
     "slide_type": "slide"
    }
   },
   "source": [
    "# Descriptive Statistics"
   ]
  },
  {
   "cell_type": "markdown",
   "metadata": {},
   "source": [
    "### ❓ Question: Age Distribution\n",
    "\n",
    "Print an overview (mean and std) of the age distribution of the sample:"
   ]
  },
  {
   "cell_type": "code",
   "execution_count": null,
   "metadata": {},
   "outputs": [],
   "source": []
  },
  {
   "cell_type": "markdown",
   "metadata": {},
   "source": [
    "<details>\n",
    "<summary>💡 Show solution</summary>\n",
    "\n",
    "```\n",
    "data_unique = data.drop_duplicates(subset='subject')\n",
    "data_unique['age'].describe()\n",
    "```\n",
    "</details>"
   ]
  },
  {
   "cell_type": "markdown",
   "metadata": {},
   "source": [
    "### ❓ Question: Sex Ratio\n",
    "Print the counts of each sex per group:"
   ]
  },
  {
   "cell_type": "code",
   "execution_count": null,
   "metadata": {},
   "outputs": [],
   "source": []
  },
  {
   "cell_type": "markdown",
   "metadata": {},
   "source": [
    "<details>\n",
    "<summary>💡 Show solution</summary>\n",
    "\n",
    "```\n",
    "unique_subjects = data.drop_duplicates(subset='subject')\n",
    "\n",
    "for group in unique_subjects['group'].unique():\n",
    "    print(f\"Sex counts for group {group}:\")\n",
    "    counts = unique_subjects[unique_subjects['group'] == group]['sex'].value_counts()\n",
    "    print(counts)\n",
    "```\n",
    "</details>"
   ]
  },
  {
   "cell_type": "markdown",
   "metadata": {},
   "source": [
    "### ❓ Question: HAMD Scores\n",
    "\n",
    "Calculate and print the mean HAMD scores for each group:"
   ]
  },
  {
   "cell_type": "code",
   "execution_count": null,
   "metadata": {},
   "outputs": [],
   "source": []
  },
  {
   "cell_type": "markdown",
   "metadata": {},
   "source": [
    "<details>\n",
    "<summary>💡 Show solution</summary>\n",
    "\n",
    "```\n",
    "unique_subjects = data.drop_duplicates(subset='subject')\n",
    "group_means = unique_subjects.groupby('group')['HAMD'].mean()\n",
    "print(group_means)\n",
    "```\n",
    "</details>"
   ]
  },
  {
   "cell_type": "markdown",
   "metadata": {},
   "source": [
    " "
   ]
  },
  {
   "cell_type": "markdown",
   "metadata": {},
   "source": [
    " "
   ]
  },
  {
   "cell_type": "markdown",
   "metadata": {},
   "source": [
    "# Statistical Tests"
   ]
  },
  {
   "cell_type": "markdown",
   "metadata": {},
   "source": [
    "### ❓ Question:\n",
    "\n",
    "Test whether the groups (MDD, BD, HC) differ significantly in their HAMD scores.\n",
    "\n",
    "**Hint:** Use a one-way ANOVA."
   ]
  },
  {
   "cell_type": "code",
   "execution_count": null,
   "metadata": {},
   "outputs": [],
   "source": []
  },
  {
   "cell_type": "markdown",
   "metadata": {},
   "source": [
    "<details>\n",
    "<summary>💡 Show solution</summary>\n",
    "\n",
    "```\n",
    "anova = pg.anova(data=unique_subjects, dv='HAMD', between='group', detailed=True)\n",
    "print(anova)\n",
    "```\n",
    "</details>"
   ]
  },
  {
   "cell_type": "markdown",
   "metadata": {},
   "source": [
    "Use post-hoc tests for pairwise comparisons."
   ]
  },
  {
   "cell_type": "code",
   "execution_count": null,
   "metadata": {},
   "outputs": [],
   "source": []
  },
  {
   "cell_type": "markdown",
   "metadata": {},
   "source": [
    "<details>\n",
    "<summary>💡 Show solution</summary>\n",
    "\n",
    "```\n",
    "posthoc = pg.pairwise_tukey(dv='HAMD', between='group', data=unique_subjects)\n",
    "print(posthoc)\n",
    "```\n",
    "</details>"
   ]
  },
  {
   "cell_type": "markdown",
   "metadata": {},
   "source": [
    "Visualize the data (HAMD scores per group)"
   ]
  },
  {
   "cell_type": "code",
   "execution_count": null,
   "metadata": {},
   "outputs": [],
   "source": []
  },
  {
   "cell_type": "markdown",
   "metadata": {},
   "source": [
    "<details>\n",
    "<summary>💡 Show solution</summary>\n",
    "\n",
    "```\n",
    "plt.figure(figsize=(8,6))\n",
    "sns.boxplot(data=unique_subjects, x='group', y='HAMD', palette='Set2')\n",
    "sns.stripplot(data=unique_subjects, x='group', y='HAMD', color='black', alpha=0.5, jitter=True)\n",
    "\n",
    "plt.title('HAMD Scores by Group')\n",
    "plt.xlabel('Group')\n",
    "plt.ylabel('HAMD Score')\n",
    "plt.show()\n",
    "```\n",
    "</details>"
   ]
  },
  {
   "cell_type": "markdown",
   "metadata": {},
   "source": [
    " "
   ]
  },
  {
   "cell_type": "markdown",
   "metadata": {},
   "source": [
    " "
   ]
  },
  {
   "cell_type": "markdown",
   "metadata": {},
   "source": [
    "### ❓ Question:\n",
    "\n",
    "Is sleep quality influenced by both group membership (MDD, BD, HC) and season (winter, summer)?\n",
    "\n",
    "**Hint:** Use a mixed ANOVA."
   ]
  },
  {
   "cell_type": "code",
   "execution_count": null,
   "metadata": {},
   "outputs": [],
   "source": []
  },
  {
   "cell_type": "markdown",
   "metadata": {},
   "source": [
    "<details>\n",
    "<summary>💡 Show solution</summary>\n",
    "\n",
    "```\n",
    "aov = pg.mixed_anova(data=data, \n",
    "                     dv='SleepScore', \n",
    "                     within='season', \n",
    "                     between='group', \n",
    "                     subject='subject', \n",
    "                     correction=False, \n",
    "                     effsize='np2')\n",
    "\n",
    "pg.print_table(aov)\n",
    "```\n",
    "</details>"
   ]
  },
  {
   "cell_type": "markdown",
   "metadata": {},
   "source": [
    "Visualize the results"
   ]
  },
  {
   "cell_type": "code",
   "execution_count": null,
   "metadata": {},
   "outputs": [],
   "source": []
  },
  {
   "cell_type": "markdown",
   "metadata": {},
   "source": [
    "<details>\n",
    "<summary>💡 Show solution</summary>\n",
    "\n",
    "```\n",
    "# Set visual style\n",
    "sns.set(style=\"whitegrid\", context=\"talk\")\n",
    "\n",
    "# Create the plot\n",
    "plt.figure(figsize=(8, 6))\n",
    "sns.pointplot(data=data, \n",
    "              x='season', \n",
    "              y='SleepScore', \n",
    "              hue='group', \n",
    "              dodge=True, \n",
    "              markers=[\"o\", \"s\", \"D\"], \n",
    "              capsize=.1, \n",
    "              errwidth=1.5, \n",
    "              palette='Set2')\n",
    "\n",
    "# Customize labels and title\n",
    "plt.title(\"Subjective Sleep Quality by Season and Group\")\n",
    "plt.xlabel(\"Season\")\n",
    "plt.ylabel(\"Sleep Score\")\n",
    "plt.legend(title=\"Group\")\n",
    "plt.tight_layout()\n",
    "plt.show()\n",
    "\n",
    "```\n",
    "</details>"
   ]
  },
  {
   "cell_type": "markdown",
   "metadata": {},
   "source": [
    " "
   ]
  },
  {
   "cell_type": "markdown",
   "metadata": {},
   "source": [
    " "
   ]
  },
  {
   "cell_type": "markdown",
   "metadata": {},
   "source": [
    "### ❓ Question:\n",
    "\n",
    "Investigate whether subjective sleep quality (SleepScore) and daytime fatigue (Fatigue) are associated.\n",
    "\n",
    "**Hint:** Use a pearson correlation."
   ]
  },
  {
   "cell_type": "code",
   "execution_count": null,
   "metadata": {},
   "outputs": [],
   "source": []
  },
  {
   "cell_type": "markdown",
   "metadata": {},
   "source": [
    "<details>\n",
    "<summary>💡 Show solution</summary>\n",
    "\n",
    "```\n",
    "correlation = pg.corr(data['SleepScore'], data['Fatigue'])\n",
    "print(correlation)\n",
    "```\n",
    "</details>"
   ]
  },
  {
   "cell_type": "markdown",
   "metadata": {},
   "source": [
    "Visualize the results"
   ]
  },
  {
   "cell_type": "code",
   "execution_count": null,
   "metadata": {},
   "outputs": [],
   "source": []
  },
  {
   "cell_type": "markdown",
   "metadata": {},
   "source": [
    "<details>\n",
    "<summary>💡 Show solution</summary>\n",
    "\n",
    "```\n",
    "sns.set(style=\"whitegrid\", context=\"talk\")\n",
    "\n",
    "# Create jointplot with regression line\n",
    "plot = sns.jointplot(\n",
    "    data=data,\n",
    "    x='SleepScore',\n",
    "    y='Fatigue',\n",
    "    kind='reg',              \n",
    "    height=6,\n",
    "    scatter_kws={'alpha': 0.6},\n",
    "    line_kws={'color': 'red'}\n",
    ")\n",
    "\n",
    "plot.fig.suptitle('Sleep Score vs. Fatigue', fontsize=16)\n",
    "plot.fig.tight_layout()\n",
    "plot.fig.subplots_adjust(top=0.95)  \n",
    "```\n",
    "</details>"
   ]
  },
  {
   "cell_type": "markdown",
   "metadata": {},
   "source": [
    " "
   ]
  },
  {
   "cell_type": "markdown",
   "metadata": {},
   "source": [
    " "
   ]
  }
 ],
 "metadata": {
  "anaconda-cloud": {},
  "kernelspec": {
   "display_name": "Python 3 (ipykernel)",
   "language": "python",
   "name": "python3"
  },
  "language_info": {
   "codemirror_mode": {
    "name": "ipython",
    "version": 3
   },
   "file_extension": ".py",
   "mimetype": "text/x-python",
   "name": "python",
   "nbconvert_exporter": "python",
   "pygments_lexer": "ipython3",
   "version": "3.11.5"
  }
 },
 "nbformat": 4,
 "nbformat_minor": 4
}
