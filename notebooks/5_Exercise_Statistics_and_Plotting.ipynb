{
 "cells": [
  {
   "cell_type": "markdown",
   "metadata": {},
   "source": [
    "To open this notebook in Google Colab and start coding, click on the Colab icon below.\n",
    "\n",
    "<table style=\"border:2px solid orange\" align=\"left\">\n",
    "  <td style=\"border:2px solid orange \">\n",
    "    <a target=\"_blank\" href=\"https://colab.research.google.com/github/ChristinaVS95/workshop_python_git/blob/main/notebooks/5_Exercise_Statistics_and_Plotting.ipynb?dummy=123456\"><img src=\"https://www.tensorflow.org/images/colab_logo_32px.png\" />Run in Google Colab</a>\n",
    "  </td>\n",
    " </table>"
   ]
  },
  {
   "cell_type": "markdown",
   "metadata": {},
   "source": [
    "# Exercise: Statistics and Plotting in Python"
   ]
  },
  {
   "cell_type": "markdown",
   "metadata": {},
   "source": [
    "# Load packages"
   ]
  },
  {
   "cell_type": "code",
   "execution_count": null,
   "metadata": {},
   "outputs": [],
   "source": [
    "!pip install pingouin\n",
    "\n",
    "import numpy as np\n",
    "import pandas as pd\n",
    "import pingouin as pg\n",
    "\n",
    "import matplotlib.pyplot as plt\n",
    "import seaborn as sns\n",
    "\n",
    "import warnings\n",
    "warnings.filterwarnings(\"ignore\", category=UserWarning)\n",
    "warnings.filterwarnings(\"ignore\", category=FutureWarning)"
   ]
  },
  {
   "cell_type": "markdown",
   "metadata": {
    "slideshow": {
     "slide_type": "subslide"
    }
   },
   "source": [
    "# Dataset\n",
    "\n",
    "Let's load another fictional dataset:\n",
    "\n",
    "- **subject**: Unique subject ID including group label and number.\n",
    "- **group**: Diagnostic group — MDD (Major Depressive Disorder), BD (Bipolar Disorder), or HC (Healthy Control).\n",
    "- **sex**: Biological sex (m or w).\n",
    "- **age**: Age in years (group-specific realistic means with variation).\n",
    "- **diet**: Reported diet, either mediterranean or western.\n",
    "- **season**: Within-subject variable — whether the data point was collected in summer or winter.\n",
    "- **SleepScore**: Subjective sleep quality on a scale from 1 (poor) to 10 (excellent), group-specific.\n",
    "- **Fatigue**: Daytime fatigue on a scale from 1 (none) to 10 (severe), inversely related to SleepScore plus noise.\n",
    "- **KL**: Concentration performance score (from the d2 test), realistic range (60–130), group-specific.\n",
    "- **HAMD**: Depression severity (Hamilton Depression Rating Scale, 0–35), highest in MDD, then BD, then HC.\n",
    "\n",
    "**Run the code below to load the dataset:**"
   ]
  },
  {
   "cell_type": "code",
   "execution_count": null,
   "metadata": {},
   "outputs": [],
   "source": [
    "url = 'https://raw.githubusercontent.com/ChristinaVS95/workshop_python_git/main/data/dataset_2.csv'\n",
    "data = pd.read_csv(url)\n",
    "data.head()"
   ]
  },
  {
   "cell_type": "markdown",
   "metadata": {},
   "source": [
    " "
   ]
  },
  {
   "cell_type": "markdown",
   "metadata": {},
   "source": [
    " "
   ]
  },
  {
   "cell_type": "markdown",
   "metadata": {
    "slideshow": {
     "slide_type": "slide"
    }
   },
   "source": [
    "# Descriptive Statistics"
   ]
  },
  {
   "cell_type": "markdown",
   "metadata": {},
   "source": [
    "### ❓ Question: Age Distribution\n",
    "\n",
    "Print an overview (mean and std) of the age distribution of the sample:"
   ]
  },
  {
   "cell_type": "code",
   "execution_count": null,
   "metadata": {},
   "outputs": [],
   "source": []
  },
  {
   "cell_type": "markdown",
   "metadata": {},
   "source": [
    "<details>\n",
    "<summary>💡 Show solution</summary>\n",
    "\n",
    "```\n",
    "data_unique = data.drop_duplicates(subset='subject')\n",
    "data_unique['age'].describe()\n",
    "```\n",
    "</details>"
   ]
  },
  {
   "cell_type": "markdown",
   "metadata": {},
   "source": [
    "### ❓ Question: Sex Ratio\n",
    "Print the counts of each sex per group:"
   ]
  },
  {
   "cell_type": "code",
   "execution_count": null,
   "metadata": {},
   "outputs": [],
   "source": []
  },
  {
   "cell_type": "markdown",
   "metadata": {},
   "source": [
    "<details>\n",
    "<summary>💡 Show solution</summary>\n",
    "\n",
    "```\n",
    "unique_subjects = data.drop_duplicates(subset='subject')\n",
    "\n",
    "for group in unique_subjects['group'].unique():\n",
    "    print(f\"Sex counts for group {group}:\")\n",
    "    counts = unique_subjects[unique_subjects['group'] == group]['sex'].value_counts()\n",
    "    print(counts)\n",
    "```\n",
    "</details>"
   ]
  },
  {
   "cell_type": "markdown",
   "metadata": {},
   "source": [
    "### ❓ Question: HAMD Scores\n",
    "\n",
    "Calculate and print the mean HAMD scores for each group:"
   ]
  },
  {
   "cell_type": "code",
   "execution_count": null,
   "metadata": {},
   "outputs": [],
   "source": []
  },
  {
   "cell_type": "markdown",
   "metadata": {},
   "source": [
    "<details>\n",
    "<summary>💡 Show solution</summary>\n",
    "\n",
    "```\n",
    "unique_subjects = data.drop_duplicates(subset='subject')\n",
    "group_means = unique_subjects.groupby('group')['HAMD'].mean()\n",
    "print(group_means)\n",
    "```\n",
    "</details>"
   ]
  },
  {
   "cell_type": "markdown",
   "metadata": {},
   "source": [
    " "
   ]
  },
  {
   "cell_type": "markdown",
   "metadata": {},
   "source": [
    " "
   ]
  },
  {
   "cell_type": "markdown",
   "metadata": {},
   "source": [
    "# Statistical Tests"
   ]
  },
  {
   "cell_type": "markdown",
   "metadata": {},
   "source": [
    "### ❓ Question:\n",
    "\n",
    "Test whether the groups (MDD, BD, HC) differ significantly in their HAMD scores.\n",
    "\n",
    "**Hint:** Use a one-way ANOVA."
   ]
  },
  {
   "cell_type": "code",
   "execution_count": null,
   "metadata": {},
   "outputs": [],
   "source": []
  },
  {
   "cell_type": "markdown",
   "metadata": {},
   "source": [
    "<details>\n",
    "<summary>💡 Show solution</summary>\n",
    "\n",
    "```\n",
    "anova = pg.anova(data=unique_subjects, dv='HAMD', between='group', detailed=True)\n",
    "print(anova)\n",
    "```\n",
    "</details>"
   ]
  },
  {
   "cell_type": "markdown",
   "metadata": {},
   "source": [
    "Use post-hoc tests for pairwise comparisons."
   ]
  },
  {
   "cell_type": "code",
   "execution_count": null,
   "metadata": {},
   "outputs": [],
   "source": []
  },
  {
   "cell_type": "markdown",
   "metadata": {},
   "source": [
    "<details>\n",
    "<summary>💡 Show solution</summary>\n",
    "\n",
    "```\n",
    "posthoc = pg.pairwise_tukey(dv='HAMD', between='group', data=unique_subjects)\n",
    "print(posthoc)\n",
    "```\n",
    "</details>"
   ]
  },
  {
   "cell_type": "markdown",
   "metadata": {},
   "source": [
    "Visualize the data (HAMD scores per group)"
   ]
  },
  {
   "cell_type": "code",
   "execution_count": null,
   "metadata": {},
   "outputs": [],
   "source": []
  },
  {
   "cell_type": "markdown",
   "metadata": {},
   "source": [
    "<details>\n",
    "<summary>💡 Show solution</summary>\n",
    "\n",
    "```\n",
    "plt.figure(figsize=(8,6))\n",
    "sns.boxplot(data=unique_subjects, x='group', y='HAMD', palette='Set2')\n",
    "sns.stripplot(data=unique_subjects, x='group', y='HAMD', color='black', alpha=0.5, jitter=True)\n",
    "\n",
    "plt.title('HAMD Scores by Group')\n",
    "plt.xlabel('Group')\n",
    "plt.ylabel('HAMD Score')\n",
    "plt.show()\n",
    "```\n",
    "</details>"
   ]
  },
  {
   "cell_type": "markdown",
   "metadata": {},
   "source": [
    " "
   ]
  },
  {
   "cell_type": "markdown",
   "metadata": {},
   "source": [
    " "
   ]
  },
  {
   "cell_type": "markdown",
   "metadata": {},
   "source": [
    "### ❓ Question:\n",
    "\n",
    "Is sleep quality influenced by both group membership (MDD, BD, HC) and season (winter, summer)?\n",
    "\n",
    "**Hint:** Use a mixed ANOVA."
   ]
  },
  {
   "cell_type": "code",
   "execution_count": null,
   "metadata": {},
   "outputs": [],
   "source": []
  },
  {
   "cell_type": "markdown",
   "metadata": {},
   "source": [
    "<details>\n",
    "<summary>💡 Show solution</summary>\n",
    "\n",
    "```\n",
    "aov = pg.mixed_anova(data=data, \n",
    "                     dv='SleepScore', \n",
    "                     within='season', \n",
    "                     between='group', \n",
    "                     subject='subject', \n",
    "                     correction=False, \n",
    "                     effsize='np2')\n",
    "\n",
    "pg.print_table(aov)\n",
    "```\n",
    "</details>"
   ]
  },
  {
   "cell_type": "markdown",
   "metadata": {},
   "source": [
    "Visualize the results"
   ]
  },
  {
   "cell_type": "code",
   "execution_count": null,
   "metadata": {},
   "outputs": [],
   "source": []
  },
  {
   "cell_type": "markdown",
   "metadata": {},
   "source": [
    "<details>\n",
    "<summary>💡 Show solution</summary>\n",
    "\n",
    "```\n",
    "# Set visual style\n",
    "sns.set(style=\"whitegrid\", context=\"talk\")\n",
    "\n",
    "# Create the plot\n",
    "plt.figure(figsize=(8, 6))\n",
    "sns.pointplot(data=data, \n",
    "              x='season', \n",
    "              y='SleepScore', \n",
    "              hue='group', \n",
    "              dodge=True, \n",
    "              markers=[\"o\", \"s\", \"D\"], \n",
    "              capsize=.1, \n",
    "              errwidth=1.5, \n",
    "              palette='Set2')\n",
    "\n",
    "# Customize labels and title\n",
    "plt.title(\"Subjective Sleep Quality by Season and Group\")\n",
    "plt.xlabel(\"Season\")\n",
    "plt.ylabel(\"Sleep Score\")\n",
    "plt.legend(title=\"Group\")\n",
    "plt.tight_layout()\n",
    "plt.show()\n",
    "\n",
    "```\n",
    "</details>"
   ]
  },
  {
   "cell_type": "markdown",
   "metadata": {},
   "source": [
    " "
   ]
  },
  {
   "cell_type": "markdown",
   "metadata": {},
   "source": [
    " "
   ]
  },
  {
   "cell_type": "markdown",
   "metadata": {},
   "source": [
    "### ❓ Question:\n",
    "\n",
    "Investigate whether subjective sleep quality (SleepScore) and daytime fatigue (Fatigue) are associated.\n",
    "\n",
    "**Hint:** Use a pearson correlation."
   ]
  },
  {
   "cell_type": "code",
   "execution_count": null,
   "metadata": {},
   "outputs": [],
   "source": []
  },
  {
   "cell_type": "markdown",
   "metadata": {},
   "source": [
    "<details>\n",
    "<summary>💡 Show solution</summary>\n",
    "\n",
    "```\n",
    "correlation = pg.corr(data['SleepScore'], data['Fatigue'])\n",
    "print(correlation)\n",
    "```\n",
    "</details>"
   ]
  },
  {
   "cell_type": "markdown",
   "metadata": {},
   "source": [
    "Visualize the results"
   ]
  },
  {
   "cell_type": "code",
   "execution_count": null,
   "metadata": {},
   "outputs": [],
   "source": []
  },
  {
   "cell_type": "markdown",
   "metadata": {},
   "source": [
    "<details>\n",
    "<summary>💡 Show solution</summary>\n",
    "\n",
    "```\n",
    "sns.set(style=\"whitegrid\", context=\"talk\")\n",
    "\n",
    "# Create jointplot with regression line\n",
    "plot = sns.jointplot(\n",
    "    data=data,\n",
    "    x='SleepScore',\n",
    "    y='Fatigue',\n",
    "    kind='reg',              \n",
    "    height=6,\n",
    "    scatter_kws={'alpha': 0.6},\n",
    "    line_kws={'color': 'red'}\n",
    ")\n",
    "\n",
    "plot.fig.suptitle('Sleep Score vs. Fatigue', fontsize=16)\n",
    "plot.fig.tight_layout()\n",
    "plot.fig.subplots_adjust(top=0.95)  \n",
    "```\n",
    "</details>"
   ]
  },
  {
   "cell_type": "markdown",
   "metadata": {},
   "source": [
    " "
   ]
  },
  {
   "cell_type": "markdown",
   "metadata": {},
   "source": [
    " "
   ]
  }
 ],
 "metadata": {
  "anaconda-cloud": {},
  "kernelspec": {
   "display_name": "Python 3 (ipykernel)",
   "language": "python",
   "name": "python3"
  },
  "language_info": {
   "codemirror_mode": {
    "name": "ipython",
    "version": 3
   },
   "file_extension": ".py",
   "mimetype": "text/x-python",
   "name": "python",
   "nbconvert_exporter": "python",
   "pygments_lexer": "ipython3",
   "version": "3.11.5"
  }
 },
 "nbformat": 4,
 "nbformat_minor": 4
}
