{
 "cells": [
  {
   "cell_type": "markdown",
   "metadata": {},
   "source": [
    "To open this notebook in Google Colab and start coding, click on the Colab icon below.\n",
    "\n",
    "<table style=\"border:2px solid orange\" align=\"left\">\n",
    "  <td style=\"border:2px solid orange \">\n",
    "    <a target=\"_blank\" href=\"https://colab.research.google.com/github/ChristinaVS95/workshop_python_git/blob/main/notebooks/4_Statistics_and_Plotting.ipynb\"><img src=\"https://www.tensorflow.org/images/colab_logo_32px.png\" />Run in Google Colab</a>\n",
    "  </td>\n",
    " </table>"
   ]
  },
  {
   "cell_type": "markdown",
   "metadata": {},
   "source": [
    "# Introduction to Statistics and Plotting in Python"
   ]
  },
  {
   "cell_type": "markdown",
   "metadata": {},
   "source": [
    "**Source: https://peerherholz.github.io/workshop_weizmann/prerequisites/intro_statistics.html**"
   ]
  },
  {
   "cell_type": "markdown",
   "metadata": {
    "slideshow": {
     "slide_type": "slide"
    }
   },
   "source": [
    "In this section, we will cover how you can use Python to do some statistics and visualize results. There are many packages to do so, but we will focus on:\n",
    "\n",
    "- **pandas**\n",
    "- **pingouin**\n",
    "- **seaborn and matplotlib**"
   ]
  },
  {
   "cell_type": "markdown",
   "metadata": {},
   "source": [
    "# Load packages"
   ]
  },
  {
   "cell_type": "code",
   "execution_count": null,
   "metadata": {},
   "outputs": [],
   "source": [
    "!pip install pingouin\n",
    "\n",
    "import numpy as np\n",
    "import pandas as pd\n",
    "import pingouin as pg\n",
    "\n",
    "import matplotlib.pyplot as plt\n",
    "import seaborn as sns"
   ]
  },
  {
   "cell_type": "markdown",
   "metadata": {
    "slideshow": {
     "slide_type": "subslide"
    }
   },
   "source": [
    "# Create fictional dataset\n",
    "\n",
    "Example fictional dataset: It contains \n",
    "- subject\n",
    "- group\n",
    "- sex\n",
    "- age\n",
    "- Emo (values of a fictional emotion regulation score)\n",
    "- Exp (values of a fictional expectation score)\n",
    "- Symp (values of a fictional depression score)\n",
    "- Symp_FU (depression score at follow-up)\n",
    "- time (morning vs. evening assessment)\n",
    "\n",
    "**Run the code below to generate the dataset:**"
   ]
  },
  {
   "cell_type": "code",
   "execution_count": null,
   "metadata": {},
   "outputs": [],
   "source": [
    "np.random.seed(42)\n",
    "n_mdd = 50\n",
    "n_hc = 50\n",
    "n_subjects = n_mdd + n_hc\n",
    "\n",
    "groups = ['MDD'] * n_mdd + ['HC'] * n_hc\n",
    "subjects = [f'subj_{i+1}' for i in range(n_subjects)]\n",
    "\n",
    "age_mdd = np.random.normal(loc=40, scale=5, size=n_mdd)\n",
    "age_hc = np.random.normal(loc=30, scale=5, size=n_hc)\n",
    "age = np.round(np.concatenate([age_mdd, age_hc]), 1)\n",
    "\n",
    "sex_mdd = np.random.choice(['Male', 'Female'], size=n_mdd)\n",
    "sex_hc = np.random.choice(['Male', 'Female'], size=n_hc)\n",
    "sex = np.concatenate([sex_mdd, sex_hc])\n",
    "\n",
    "emo_mdd = np.clip(np.random.normal(loc=10, scale=3, size=n_mdd), 5, 20)\n",
    "emo_hc = np.clip(np.random.normal(loc=15, scale=3, size=n_hc), 5, 20)\n",
    "Emo = np.concatenate([emo_mdd, emo_hc])\n",
    "\n",
    "base_symp_mdd = np.clip(np.random.normal(loc=22, scale=4, size=n_mdd), 0, 30)\n",
    "base_symp_hc = np.clip(np.random.normal(loc=10, scale=4, size=n_hc), 0, 30)\n",
    "Symp_base = np.concatenate([base_symp_mdd, base_symp_hc])\n",
    "\n",
    "exp_mdd = np.clip(np.random.normal(loc=15, scale=10, size=n_mdd), 0, 50)\n",
    "exp_hc = np.clip(np.random.normal(loc=30, scale=10, size=n_hc), 0, 50)\n",
    "Exp = np.concatenate([exp_mdd, exp_hc])\n",
    "\n",
    "subjects_expanded = np.repeat(subjects, 2)\n",
    "groups_expanded = np.repeat(groups, 2)\n",
    "sex_expanded = np.repeat(sex, 2)\n",
    "age_expanded = np.repeat(age, 2)\n",
    "Emo_expanded = np.repeat(Emo, 2)\n",
    "Exp_expanded = np.repeat(Exp, 2)\n",
    "\n",
    "time = ['morning', 'evening'] * n_subjects\n",
    "symp_morning = Symp_base + np.random.normal(loc=0, scale=1.5, size=n_subjects)\n",
    "symp_morning = np.clip(symp_morning, 0, 30)\n",
    "symp_evening = symp_morning + 2 + np.random.normal(loc=0, scale=1, size=n_subjects)\n",
    "symp_evening = np.clip(symp_evening, 0, 30)\n",
    "\n",
    "Symp = np.empty(n_subjects * 2)\n",
    "Symp[0::2] = symp_morning\n",
    "Symp[1::2] = symp_evening\n",
    "\n",
    "Symp_FU = np.empty(n_subjects * 2)\n",
    "for i in range(n_subjects):\n",
    "    if groups[i] == 'MDD':\n",
    "        Symp_FU[2*i] = symp_morning[i] + np.random.normal(0, 1)\n",
    "        Symp_FU[2*i + 1] = symp_evening[i] - 3 + np.random.normal(0, 1)\n",
    "    else:  # hc\n",
    "        Symp_FU[2*i] = symp_morning[i] + np.random.normal(0, 1)\n",
    "        Symp_FU[2*i + 1] = symp_evening[i] + np.random.normal(0, 1)\n",
    "\n",
    "Symp_FU = np.clip(Symp_FU, 0, 30)\n",
    "\n",
    "data = pd.DataFrame({\n",
    "    'subject': subjects_expanded,\n",
    "    'group': groups_expanded,\n",
    "    'sex': sex_expanded,\n",
    "    'age': age_expanded,\n",
    "    'Emo': Emo_expanded,\n",
    "    'Exp': Exp_expanded,\n",
    "    'time': time,\n",
    "    'Symp': Symp,\n",
    "    'Symp_FU': Symp_FU\n",
    "})\n",
    "data['Symp'] = pd.to_numeric(data['Symp'], errors='coerce')\n",
    "data.head(10)"
   ]
  },
  {
   "cell_type": "markdown",
   "metadata": {},
   "source": [
    " "
   ]
  },
  {
   "cell_type": "markdown",
   "metadata": {},
   "source": [
    " "
   ]
  },
  {
   "cell_type": "markdown",
   "metadata": {},
   "source": [
    " "
   ]
  },
  {
   "cell_type": "markdown",
   "metadata": {
    "slideshow": {
     "slide_type": "slide"
    }
   },
   "source": [
    "<center><img src=\"https://upload.wikimedia.org/wikipedia/commons/thumb/e/ed/Pandas_logo.svg/512px-Pandas_logo.svg.png\" width=\"45%\"></center>\n",
    "\n",
    "\n",
    "# The pandas data-frame"
   ]
  },
  {
   "cell_type": "markdown",
   "metadata": {
    "slideshow": {
     "slide_type": "subslide"
    }
   },
   "source": [
    "### Manipulating data\n",
    "\n",
    "`data` is a `pandas.DataFrame`, that resembles R's dataframe:"
   ]
  },
  {
   "cell_type": "code",
   "execution_count": null,
   "metadata": {
    "slideshow": {
     "slide_type": "fragment"
    }
   },
   "outputs": [],
   "source": [
    "data.shape    # 200 rows and 9 columns"
   ]
  },
  {
   "cell_type": "code",
   "execution_count": null,
   "metadata": {
    "slideshow": {
     "slide_type": "subslide"
    }
   },
   "outputs": [],
   "source": [
    "data.columns  # It has columns"
   ]
  },
  {
   "cell_type": "code",
   "execution_count": null,
   "metadata": {
    "slideshow": {
     "slide_type": "fragment"
    }
   },
   "outputs": [],
   "source": [
    "print(data['group'])  # Columns can be addressed by name"
   ]
  },
  {
   "cell_type": "code",
   "execution_count": null,
   "metadata": {
    "slideshow": {
     "slide_type": "subslide"
    }
   },
   "outputs": [],
   "source": [
    "# Simpler selector\n",
    "data[data['group'] == 'HC']['Emo'].mean()"
   ]
  },
  {
   "cell_type": "markdown",
   "metadata": {
    "slideshow": {
     "slide_type": "fragment"
    }
   },
   "source": [
    "**Note:** For a quick view on a large dataframe, use its `describe` `pandas.DataFrame.describe`."
   ]
  },
  {
   "cell_type": "code",
   "execution_count": null,
   "metadata": {
    "slideshow": {
     "slide_type": "subslide"
    }
   },
   "outputs": [],
   "source": [
    "data_unique = data.drop_duplicates(subset='subject')\n",
    "data_unique.describe()"
   ]
  },
  {
   "cell_type": "code",
   "execution_count": null,
   "metadata": {
    "slideshow": {
     "slide_type": "subslide"
    }
   },
   "outputs": [],
   "source": [
    "# Frequency count for a given column\n",
    "data_unique['sex'].value_counts()"
   ]
  },
  {
   "cell_type": "markdown",
   "metadata": {},
   "source": [
    " "
   ]
  },
  {
   "cell_type": "markdown",
   "metadata": {
    "slideshow": {
     "slide_type": "subslide"
    }
   },
   "source": [
    "### The split-apply-combine pattern\n",
    "* A very common data processing strategy is to...\n",
    "    * Split the dataset into groups\n",
    "    * Apply some operation(s) to each group\n",
    "    * (Optionally) combine back into one dataset\n",
    "\n",
    "Pandas provides powerful and fast tools for this. For example the `groupby` function."
   ]
  },
  {
   "cell_type": "markdown",
   "metadata": {
    "slideshow": {
     "slide_type": "fragment"
    }
   },
   "source": [
    "**groupby**: splitting a dataframe on values of categorical variables:"
   ]
  },
  {
   "cell_type": "code",
   "execution_count": null,
   "metadata": {
    "slideshow": {
     "slide_type": "subslide"
    }
   },
   "outputs": [],
   "source": [
    "groupby_group = data.groupby('group')\n",
    "for group, value in groupby_group['Emo']:\n",
    "     print((group, value.mean()))"
   ]
  },
  {
   "cell_type": "markdown",
   "metadata": {
    "slideshow": {
     "slide_type": "subslide"
    }
   },
   "source": [
    "`groupby_group` is a powerful object that exposes many operations on the resulting group of `dataframes`:"
   ]
  },
  {
   "cell_type": "code",
   "execution_count": null,
   "metadata": {
    "slideshow": {
     "slide_type": "fragment"
    }
   },
   "outputs": [],
   "source": [
    "groupby_group[['Emo', 'Exp', 'Symp', 'age']].mean()"
   ]
  },
  {
   "cell_type": "markdown",
   "metadata": {},
   "source": [
    " "
   ]
  },
  {
   "cell_type": "markdown",
   "metadata": {},
   "source": [
    " "
   ]
  },
  {
   "cell_type": "markdown",
   "metadata": {},
   "source": [
    " "
   ]
  },
  {
   "cell_type": "markdown",
   "metadata": {
    "slideshow": {
     "slide_type": "slide"
    }
   },
   "source": [
    "<img src=\"https://raw.githubusercontent.com/raphaelvallat/pingouin/master/docs/pictures/logo_pingouin.png\" width=\"50%\">\n",
    "\n",
    "\n",
    "### _Pingouin is an open-source statistical package written in Python 3 and based mostly on Pandas and NumPy._\n",
    "\n",
    "\n"
   ]
  },
  {
   "cell_type": "markdown",
   "metadata": {
    "slideshow": {
     "slide_type": "subslide"
    }
   },
   "source": [
    "- ANOVAs: one- and two-ways, repeated measures, mixed, ancova\n",
    "- Post-hocs tests and pairwise comparisons\n",
    "- Robust correlations\n",
    "- Partial correlation, repeated measures correlation and intraclass correlation\n",
    "- Linear/logistic regression and mediation analysis\n",
    "- Bayesian T-test and Pearson correlation\n",
    "- Tests for sphericity, normality and homoscedasticity\n",
    "- Effect sizes and power analysis\n",
    "- Parametric/bootstrapped confidence intervals around an effect size or a correlation coefficient\n",
    "- Circular statistics\n",
    "- Plotting: Bland-Altman plot, Q-Q plot, etc..."
   ]
  },
  {
   "cell_type": "markdown",
   "metadata": {
    "slideshow": {
     "slide_type": "subslide"
    }
   },
   "source": [
    "**Pingouin is designed for users who want simple yet exhaustive statistical functions.**"
   ]
  },
  {
   "cell_type": "code",
   "execution_count": null,
   "metadata": {
    "slideshow": {
     "slide_type": "fragment"
    }
   },
   "outputs": [],
   "source": [
    "import pingouin as pg"
   ]
  },
  {
   "cell_type": "markdown",
   "metadata": {},
   "source": [
    "## Correlations"
   ]
  },
  {
   "cell_type": "code",
   "execution_count": null,
   "metadata": {
    "slideshow": {
     "slide_type": "subslide"
    }
   },
   "outputs": [],
   "source": [
    "pearson_correlation = pg.corr(data['Emo'], data['Symp'])\n",
    "display(pearson_correlation)\n",
    "cor_coeeficient = pearson_correlation['r']"
   ]
  },
  {
   "cell_type": "markdown",
   "metadata": {
    "slideshow": {
     "slide_type": "subslide"
    }
   },
   "source": [
    "#### Test summary\n",
    "\n",
    "- 'n' : Sample size (after NaN removal)\n",
    "- 'r' : Correlation coefficient\n",
    "- 'CI95' : [95% parametric confidence intervals](https://en.wikipedia.org/wiki/Confidence_interval)\n",
    "- 'p-val' : one or two tailed p-value\n",
    "- 'BF10' : Bayes Factor of the alternative hypothesis (Pearson only)\n",
    "- 'power' : achieved power of the test (= 1 - type II error)"
   ]
  },
  {
   "cell_type": "markdown",
   "metadata": {},
   "source": [
    " "
   ]
  },
  {
   "cell_type": "markdown",
   "metadata": {
    "slideshow": {
     "slide_type": "subslide"
    }
   },
   "source": [
    "## Parametric tests\n",
    "\n",
    "## 1-sample t-test: testing the value of a population mean\n",
    "\n",
    "Tests if the population mean of data is likely to be equal to a given value, e.g., zero."
   ]
  },
  {
   "cell_type": "code",
   "execution_count": null,
   "metadata": {
    "slideshow": {
     "slide_type": "fragment"
    }
   },
   "outputs": [],
   "source": [
    "pg.ttest(data['Symp'],0)"
   ]
  },
  {
   "cell_type": "markdown",
   "metadata": {},
   "source": [
    " "
   ]
  },
  {
   "cell_type": "markdown",
   "metadata": {
    "slideshow": {
     "slide_type": "subslide"
    }
   },
   "source": [
    "## 2-sample t-test: testing for difference across populations\n",
    "\n",
    "We have seen above that the mean `Symp` in the `MDD` and `HC` populations\n",
    "were different. To test if this is significant, we do a 2-sample t-test:"
   ]
  },
  {
   "cell_type": "code",
   "execution_count": null,
   "metadata": {
    "slideshow": {
     "slide_type": "fragment"
    }
   },
   "outputs": [],
   "source": [
    "MDD_Symp = data[data['group'] == 'MDD']['Symp']\n",
    "HC_Symp = data[data['group'] == 'HC']['Symp']"
   ]
  },
  {
   "cell_type": "code",
   "execution_count": null,
   "metadata": {
    "slideshow": {
     "slide_type": "fragment"
    }
   },
   "outputs": [],
   "source": [
    "pg.ttest(MDD_Symp, HC_Symp)"
   ]
  },
  {
   "cell_type": "markdown",
   "metadata": {},
   "source": [
    " "
   ]
  },
  {
   "cell_type": "markdown",
   "metadata": {},
   "source": [
    "## One-way analysis of variance (ANOVA)"
   ]
  },
  {
   "cell_type": "markdown",
   "metadata": {},
   "source": [
    "Can we explain the symptom score by group membership?"
   ]
  },
  {
   "cell_type": "code",
   "execution_count": null,
   "metadata": {},
   "outputs": [],
   "source": [
    "aov = pg.anova(dv='Symp', between='group', data=data, detailed=True)\n",
    "pg.print_table(aov)"
   ]
  },
  {
   "cell_type": "markdown",
   "metadata": {},
   "source": [
    "#### Interpretation:\n",
    "The F-value of 187 with a highly significant p-value (< 0.001) indicates there is a very strong difference between the groups.\n",
    "\n",
    "Partial Eta Squared (np2) = 0.65:\n",
    "This represents a very large effect size — 65% of the variance in the dependent variable (Symp) is explained by group membership."
   ]
  },
  {
   "cell_type": "markdown",
   "metadata": {},
   "source": [
    " "
   ]
  },
  {
   "cell_type": "markdown",
   "metadata": {},
   "source": [
    "## Mixed analysis of variance (ANOVA)"
   ]
  },
  {
   "cell_type": "markdown",
   "metadata": {},
   "source": [
    "Can we explain the symptom score by the combination of group membership and time of measurement?"
   ]
  },
  {
   "cell_type": "code",
   "execution_count": null,
   "metadata": {},
   "outputs": [],
   "source": [
    "aov = pg.mixed_anova(data=data, dv='Symp', between='group', within='time',\n",
    "                     subject='subject', correction=False, effsize=\"np2\")\n",
    "pg.print_table(aov)"
   ]
  },
  {
   "cell_type": "markdown",
   "metadata": {},
   "source": [
    "#### Interpretation:\n",
    "\n",
    "**Main effect of group:**\n",
    "- The effect of the between-subjects factor group is highly significant, with a very large effect size (partial eta squared = 0.659).\n",
    "- This means there is a strong difference in the dependent variable Symp between the groups (e.g., MDD vs. HC).\n",
    "\n",
    "**Main effect of time:**\n",
    "- The within-subject factor time (morning vs. evening) is also highly significant, with an even larger effect size (partial eta squared = 0.804).\n",
    "- This indicates that, across all subjects, symptom scores significantly differ between morning and evening. Since you said Symp is higher in the evening, this confirms that Symp changes significantly over time.\n",
    "\n",
    "**Interaction effect (group × time):**\n",
    "- The interaction between group and time is not significant, and the effect size is very small (partial eta squared = 0.005).\n",
    "- This suggests that the difference in symptom scores from morning to evening does not differ significantly between groups — both groups show a similar pattern of change over time."
   ]
  },
  {
   "cell_type": "markdown",
   "metadata": {},
   "source": [
    " "
   ]
  },
  {
   "cell_type": "markdown",
   "metadata": {},
   "source": [
    "## Post-hoc tests"
   ]
  },
  {
   "cell_type": "code",
   "execution_count": null,
   "metadata": {},
   "outputs": [],
   "source": [
    "# FDR-corrected post hocs with Hedges'g effect size\n",
    "posthoc = pg.pairwise_tests(data=data, dv='Symp', between='group', within='time',\n",
    "                            subject='subject', parametric=True, padjust='fdr_bh', effsize='hedges')\n",
    "\n",
    "df_posthoc = pd.DataFrame(posthoc)\n",
    "df_posthoc"
   ]
  },
  {
   "cell_type": "markdown",
   "metadata": {},
   "source": [
    "#### Interpretation\n",
    "\n",
    "**Time Effect (evening vs. morning)**\n",
    "- There is a highly significant difference between evening and morning symptom scores (p < 1e-35).\n",
    "- The large t-value (20.09) indicates a strong difference.\n",
    "- Hedges' g of 0.30 indicates a small to moderate effect size.\n",
    "- This means symptoms tend to be higher in the evening compared to the morning.\n",
    "\n",
    "**Group Effect (healthy controls (hc) vs. patients with MDD)**\n",
    "- The difference between groups is also highly significant (p < 1e-24).\n",
    "- The negative t-value (-13.78) suggests that the MDD group has higher symptom scores than healthy controls.\n",
    "- Hedges' g around -2.73 represents a very large effect size.\n",
    "\n",
    "**Interaction Time * Group (evening, hc vs. mdd)**\n",
    "- Significant difference between groups in the evening (FDR-corrected p < 3e-24).\n",
    "- Hedges' g near -2.7 indicates a very large effect size.\n",
    "- This means that the groups differ substantially in symptom scores during the evening.\n",
    "\n",
    "**Interaction Time * Group (morning, hc vs. mdd)**\n",
    "- Significant difference between groups in the morning as well (FDR-corrected p < 3e-24).\n",
    "- Again, a very large effect size (Hedges' g about -2.73).\n",
    "- The groups also differ strongly in the morning symptom scores."
   ]
  },
  {
   "cell_type": "markdown",
   "metadata": {},
   "source": [
    " "
   ]
  },
  {
   "cell_type": "markdown",
   "metadata": {},
   "source": [
    " "
   ]
  },
  {
   "cell_type": "markdown",
   "metadata": {},
   "source": [
    " "
   ]
  },
  {
   "cell_type": "markdown",
   "metadata": {
    "slideshow": {
     "slide_type": "slide"
    }
   },
   "source": [
    "<center><img src=\"https://raw.githubusercontent.com/mwaskom/seaborn/master/doc/_static/logo-wide-lightbg.png\" width=\"50%\"></center>\n",
    "\n",
    "# `seaborn` - use visualization for statistical exploration\n",
    "\n",
    "Seaborn combines simple statistical fits with plotting on pandas dataframes."
   ]
  },
  {
   "cell_type": "markdown",
   "metadata": {},
   "source": [
    "Graph galleries: \\\n",
    "https://seaborn.pydata.org/examples/index.html \\\n",
    "https://www.python-graph-gallery.com/ \\\n",
    "https://plotly.com/python/"
   ]
  },
  {
   "cell_type": "code",
   "execution_count": null,
   "metadata": {},
   "outputs": [],
   "source": [
    "import seaborn as sns\n",
    "\n",
    "import warnings\n",
    "warnings.filterwarnings(\"ignore\", category=UserWarning)\n",
    "warnings.filterwarnings(\"ignore\", category=FutureWarning)"
   ]
  },
  {
   "cell_type": "markdown",
   "metadata": {},
   "source": [
    "## Plotting with categorical data"
   ]
  },
  {
   "cell_type": "markdown",
   "metadata": {},
   "source": [
    "https://seaborn.pydata.org/generated/seaborn.catplot.html"
   ]
  },
  {
   "cell_type": "code",
   "execution_count": null,
   "metadata": {},
   "outputs": [],
   "source": [
    "sns.set_style(\"whitegrid\")                   # set the style of the plot (e.g., whitegrid, darkgrid, white, dark)\n",
    "sns.set_context(\"paper\", font_scale = 1.75)  # set the context of the plot (e.g., paper, notebook, talk, poster)\n",
    "\n",
    "plot = sns.catplot(data   = data,     # dataset that is used for plotting\n",
    "                   x      = 'group',  # categorical variable\n",
    "                   y      = 'Symp',   # dependent variable\n",
    "                   kind   = 'bar',    # kind of plot; options: bar, violin, box, boxen, strip, swarm, point\n",
    "                   height = 4,        # size of the plot\n",
    "                   )"
   ]
  },
  {
   "cell_type": "markdown",
   "metadata": {},
   "source": [
    " "
   ]
  },
  {
   "cell_type": "markdown",
   "metadata": {},
   "source": [
    "### Defining colors"
   ]
  },
  {
   "cell_type": "markdown",
   "metadata": {},
   "source": [
    "https://seaborn.pydata.org/tutorial/color_palettes.html \\\n",
    "https://matplotlib.org/stable/gallery/color/named_colors.html"
   ]
  },
  {
   "cell_type": "code",
   "execution_count": null,
   "metadata": {},
   "outputs": [],
   "source": [
    "custom_palette = sns.choose_colorbrewer_palette('diverging') # options: sequential, qualitative\n",
    "# custom_palette = sns.choose_light_palette()\n",
    "# custom_palette = sns.choose_dark_palette()\n",
    "# custom_palette = sns.choose_diverging_palette()"
   ]
  },
  {
   "cell_type": "code",
   "execution_count": null,
   "metadata": {},
   "outputs": [],
   "source": [
    "sns.set_style(\"whitegrid\") \n",
    "sns.set_context(\"paper\", font_scale = 1.75) \n",
    "\n",
    "plot = sns.catplot(data    = data,  \n",
    "                   x     = 'group', \n",
    "                   y       = 'Symp',    \n",
    "                   kind    = 'bar',        \n",
    "                   height  = 4, \n",
    "                   palette = custom_palette,\n",
    "                   # palette = 'crest', # using a predifined color palette\n",
    "                   # palette = {'mdd': 'tab:blue', 'hc': 'tab:green'}, # defining colors manually\n",
    "                   )"
   ]
  },
  {
   "cell_type": "markdown",
   "metadata": {},
   "source": [
    " "
   ]
  },
  {
   "cell_type": "markdown",
   "metadata": {},
   "source": [
    "### Finetuning"
   ]
  },
  {
   "cell_type": "code",
   "execution_count": null,
   "metadata": {
    "scrolled": false
   },
   "outputs": [],
   "source": [
    "sns.set_style(\"whitegrid\") \n",
    "sns.set_context(\"paper\", font_scale = 1.75) \n",
    "\n",
    "plot = sns.catplot(data      = data,  \n",
    "                   x         = 'group', \n",
    "                   y         = 'Symp',    \n",
    "                   kind      = 'bar',        \n",
    "                   height    = 4,          \n",
    "                   palette   = 'crest',                   \n",
    "                   order     = ['HC', 'MDD'], # defining the order of conditions\n",
    "                   estimator = np.mean,  # defining the statistical funcion to plot (e.g., np.median, np.var)\n",
    "                   )\n",
    "\n",
    "# Defining axis labels and title\n",
    "plot.set(xlabel = 'Group', ylabel = 'Symptom Score')\n",
    "plt.title('HC vs. MDD', weight = 'bold', fontsize = 20, y = 1.05)\n",
    "\n",
    "# Saving the figure\n",
    "#plot.savefig('plots/catplot.png')"
   ]
  },
  {
   "cell_type": "markdown",
   "metadata": {},
   "source": [
    " "
   ]
  },
  {
   "cell_type": "markdown",
   "metadata": {},
   "source": [
    "### Adding a second categorical variable"
   ]
  },
  {
   "cell_type": "code",
   "execution_count": null,
   "metadata": {},
   "outputs": [],
   "source": [
    "sns.set_style(\"whitegrid\") \n",
    "sns.set_context(\"paper\", font_scale = 1.75) \n",
    "\n",
    "plot = sns.catplot(data       = data,  \n",
    "                   x          = 'group', \n",
    "                   y          = 'Symp',    \n",
    "                   hue        = 'time', # additional categorical variable                   \n",
    "                   kind       = 'bar',  \n",
    "                   height     = 4,   \n",
    "                   palette    = 'crest',                  \n",
    "                   hue_order  = ['morning', 'evening'], # defining the order of conditions\n",
    "                   legend_out = True,                   # defining position of legend               \n",
    "                   )   \n",
    "\n",
    "# Defining axis labels and title of legend\n",
    "plot.set(xlabel = 'Group', ylabel = 'Symptom Score')\n",
    "plot._legend.set_title('Time')     "
   ]
  },
  {
   "cell_type": "markdown",
   "metadata": {},
   "source": [
    " "
   ]
  },
  {
   "cell_type": "markdown",
   "metadata": {},
   "source": [
    "### Adding a third categorical variable"
   ]
  },
  {
   "cell_type": "code",
   "execution_count": null,
   "metadata": {},
   "outputs": [],
   "source": [
    "sns.set_style(\"whitegrid\") \n",
    "sns.set_context(\"paper\", font_scale = 1.75)\n",
    "\n",
    "plot = sns.catplot(data      = data,  \n",
    "                   x         = 'group', \n",
    "                   y         = 'Symp',    \n",
    "                   hue       = 'time',  \n",
    "                   col       = 'sex',        # third categorical variable\n",
    "                   kind      = 'bar',        \n",
    "                   height    = 4,          \n",
    "                   palette   = 'crest',\n",
    "                   col_order = ['Female', 'Male'], # defining the order of conditions\n",
    "                   sharey    = False,      # shared y axis for both columns                 \n",
    "                   )   \n",
    "\n",
    "# Defining axis labels and title of legend\n",
    "plot.set(xlabel = 'Group', ylabel = 'Symptom Score')\n",
    "plot._legend.set_title('Time')     \n",
    "\n",
    "# Defining title of columns and figure\n",
    "plot.set_titles(\"{col_name}\", size = 20)\n",
    "plt.suptitle('Female vs. Male', x = 0.475, y = 1.1, weight = 'bold')  \n",
    "\n",
    "plt.show()"
   ]
  },
  {
   "cell_type": "markdown",
   "metadata": {},
   "source": [
    " "
   ]
  },
  {
   "cell_type": "markdown",
   "metadata": {},
   "source": [
    "## Different plot types for categorical data & Subplot structure"
   ]
  },
  {
   "cell_type": "markdown",
   "metadata": {},
   "source": [
    "### Categorical estimate plots"
   ]
  },
  {
   "cell_type": "markdown",
   "metadata": {},
   "source": [
    "https://seaborn.pydata.org/generated/seaborn.barplot.html \\\n",
    "https://seaborn.pydata.org/generated/seaborn.pointplot.html"
   ]
  },
  {
   "cell_type": "code",
   "execution_count": null,
   "metadata": {
    "scrolled": false
   },
   "outputs": [],
   "source": [
    "# Definition of figure properties\n",
    "fig, sub_fig = plt.subplots(nrows   = 1,       # number of rows\n",
    "                            ncols   = 2,       # number of columns (e.g., 2 plots next to each other)\n",
    "                            figsize = (15, 6), # size of the figure (x/y)\n",
    "                            sharey  = False)\n",
    "\n",
    "\n",
    "# First plot\n",
    "sns.barplot(ax      = sub_fig[0], # define position of the plot within the figure\n",
    "            data    = data, \n",
    "            x       = 'group', \n",
    "            y       = 'Symp', \n",
    "            palette = 'crest')\n",
    "sub_fig[0].set_title('Barplot', fontsize = 20)\n",
    "\n",
    "\n",
    "\n",
    "# Second plot\n",
    "sns.pointplot(ax   = sub_fig[1], # define position of the plot within the figure\n",
    "              data = data, \n",
    "              x    = 'group', \n",
    "              y    = 'Symp')\n",
    "sub_fig[1].set_title('Pointplot', fontsize = 20)\n",
    "\n",
    "\n",
    "\n",
    "# Define axis labels for both subplots\n",
    "for f in range(len(sub_fig)): \n",
    "    sub_fig[f].set_xlabel('Group')\n",
    "    sub_fig[f].set_ylabel('Symptom Score') \n",
    "\n",
    "plt.tight_layout() # automatic optimal scaling\n",
    "plt.show()  "
   ]
  },
  {
   "cell_type": "markdown",
   "metadata": {},
   "source": [
    " "
   ]
  },
  {
   "cell_type": "markdown",
   "metadata": {},
   "source": [
    "### Categorical distribution plots"
   ]
  },
  {
   "cell_type": "markdown",
   "metadata": {},
   "source": [
    "https://seaborn.pydata.org/generated/seaborn.boxplot.html \\\n",
    "https://seaborn.pydata.org/generated/seaborn.boxenplot.html \\\n",
    "https://seaborn.pydata.org/generated/seaborn.violinplot.html"
   ]
  },
  {
   "cell_type": "code",
   "execution_count": null,
   "metadata": {
    "scrolled": false
   },
   "outputs": [],
   "source": [
    "fig, sub_fig = plt.subplots(1, 3, figsize = (15, 5), sharey = True)\n",
    "\n",
    "\n",
    "# First plot\n",
    "sns.boxplot(ax = sub_fig[0], \n",
    "            data = data, \n",
    "            x = 'group', \n",
    "            y = 'Symp', \n",
    "            palette = 'crest')\n",
    "sub_fig[0].set_title('Boxplot', fontsize = 20)\n",
    "\n",
    "\n",
    "# Second plot\n",
    "sns.boxenplot(ax = sub_fig[1], \n",
    "              data = data, \n",
    "              x = 'group', \n",
    "              y = 'Symp', \n",
    "              palette = 'crest')\n",
    "sub_fig[1].set_title('Boxenplot', fontsize = 20)\n",
    "\n",
    "\n",
    "# Third plot\n",
    "sns.violinplot(ax = sub_fig[2], \n",
    "               data = data, \n",
    "               x = 'group', \n",
    "               y = 'Symp', \n",
    "               palette = 'crest')\n",
    "sub_fig[2].set_title('Violinplot', fontsize = 20)\n",
    "\n",
    "\n",
    "# Define axis labels for both subplots\n",
    "for f in range(len(sub_fig)): \n",
    "    sub_fig[f].set_xlabel('Group')\n",
    "    sub_fig[f].set_ylabel('Symptom Score')\n",
    "\n",
    "plt.tight_layout()\n",
    "plt.show()  "
   ]
  },
  {
   "cell_type": "markdown",
   "metadata": {},
   "source": [
    " "
   ]
  },
  {
   "cell_type": "markdown",
   "metadata": {},
   "source": [
    "### Categorical scatterplots"
   ]
  },
  {
   "cell_type": "markdown",
   "metadata": {},
   "source": [
    "https://seaborn.pydata.org/generated/seaborn.stripplot.html \\\n",
    "https://seaborn.pydata.org/generated/seaborn.swarmplot.html"
   ]
  },
  {
   "cell_type": "code",
   "execution_count": null,
   "metadata": {},
   "outputs": [],
   "source": [
    "fig, sub_fig = plt.subplots(1, 2, figsize = (15, 6), sharey = False)\n",
    "\n",
    "\n",
    "# First plot\n",
    "sns.stripplot(ax = sub_fig[0], \n",
    "              data = data, \n",
    "              x = 'group', \n",
    "              y = 'Symp', \n",
    "              palette = 'crest')\n",
    "sub_fig[0].set_title('Stripplot', fontsize = 20)\n",
    "\n",
    "\n",
    "# Second plot\n",
    "sns.swarmplot(ax = sub_fig[1], \n",
    "              data = data, \n",
    "              x = 'group', \n",
    "              y = 'Symp', \n",
    "              palette = 'crest')\n",
    "sub_fig[1].set_title('Swarmplot', fontsize = 20)\n",
    "\n",
    "\n",
    "# Define axis labels for both subplots\n",
    "for f in range(len(sub_fig)): \n",
    "    sub_fig[f].set_xlabel('Group')\n",
    "    sub_fig[f].set_ylabel('Symptom Score')\n",
    "    \n",
    "plt.tight_layout()\n",
    "plt.show()              "
   ]
  },
  {
   "cell_type": "markdown",
   "metadata": {},
   "source": [
    " "
   ]
  },
  {
   "cell_type": "markdown",
   "metadata": {},
   "source": [
    "### Combining plots"
   ]
  },
  {
   "cell_type": "code",
   "execution_count": null,
   "metadata": {},
   "outputs": [],
   "source": [
    "plt.figure(figsize = (8, 5))\n",
    "\n",
    "# First plot\n",
    "sns.boxplot(data    = data, \n",
    "            x       = 'group', \n",
    "            y       = 'Symp', \n",
    "            palette = 'crest')\n",
    "\n",
    "# Second plot\n",
    "sns.stripplot(data  = data, \n",
    "              x     = 'group', \n",
    "              y     = 'Symp',\n",
    "              color = 'black',\n",
    "              jitter = 0.05)\n",
    "\n",
    "plt.ylabel('Group')  \n",
    "plt.xlabel('Symptom Score')\n",
    "plt.show()"
   ]
  },
  {
   "cell_type": "markdown",
   "metadata": {},
   "source": [
    " "
   ]
  },
  {
   "cell_type": "markdown",
   "metadata": {},
   "source": [
    "## Visualizing distributions of data "
   ]
  },
  {
   "cell_type": "markdown",
   "metadata": {},
   "source": [
    "### Histogram"
   ]
  },
  {
   "cell_type": "markdown",
   "metadata": {},
   "source": [
    "https://seaborn.pydata.org/generated/seaborn.displot.html#seaborn.displot"
   ]
  },
  {
   "cell_type": "code",
   "execution_count": null,
   "metadata": {},
   "outputs": [],
   "source": [
    "sns.set_style(\"white\") \n",
    "sns.set_context(\"paper\", font_scale = 1.75)\n",
    "\n",
    "plot = sns.displot(data     = data, \n",
    "                   x        = \"Emo\", \n",
    "                   binwidth = 1)\n",
    "\n",
    "plot.set(xlabel = 'Emotion Regulation Score')\n",
    "plt.show()"
   ]
  },
  {
   "cell_type": "code",
   "execution_count": null,
   "metadata": {
    "scrolled": false
   },
   "outputs": [],
   "source": [
    "sns.set_style(\"white\") \n",
    "sns.set_context(\"paper\", font_scale = 1.75)\n",
    "\n",
    "plot = sns.displot(data     = data, \n",
    "                   x        = 'Emo',\n",
    "                   hue      = 'group',  \n",
    "                   binwidth = 1)\n",
    "\n",
    "plot.set(xlabel = 'Emotion Regulation Score')\n",
    "plot._legend.set_title('Group') \n",
    "plt.show()"
   ]
  },
  {
   "cell_type": "markdown",
   "metadata": {},
   "source": [
    " "
   ]
  },
  {
   "cell_type": "markdown",
   "metadata": {},
   "source": [
    " "
   ]
  },
  {
   "cell_type": "markdown",
   "metadata": {},
   "source": [
    "## Visualizing statistical relationships"
   ]
  },
  {
   "cell_type": "markdown",
   "metadata": {},
   "source": [
    "### Scatter plot"
   ]
  },
  {
   "cell_type": "markdown",
   "metadata": {},
   "source": [
    "https://seaborn.pydata.org/generated/seaborn.relplot.html"
   ]
  },
  {
   "cell_type": "code",
   "execution_count": null,
   "metadata": {},
   "outputs": [],
   "source": [
    "sns.set_style(\"white\") \n",
    "sns.set_context(\"paper\", font_scale = 1.75)\n",
    "\n",
    "plot = sns.relplot(data = data,\n",
    "                   x    = 'Emo', \n",
    "                   y    = 'Symp', \n",
    "                   kind = 'scatter');\n",
    "\n",
    "plot.figure.set_size_inches(8, 5)\n",
    "plot.set(xlabel = 'Emotion Regulation Score', ylabel = 'Symptom Score')\n",
    "plt.show()"
   ]
  },
  {
   "cell_type": "markdown",
   "metadata": {},
   "source": [
    " "
   ]
  },
  {
   "cell_type": "markdown",
   "metadata": {},
   "source": [
    "### Scatterplot with linear regression model fit"
   ]
  },
  {
   "cell_type": "markdown",
   "metadata": {},
   "source": [
    "https://seaborn.pydata.org/generated/seaborn.regplot.html"
   ]
  },
  {
   "cell_type": "code",
   "execution_count": null,
   "metadata": {},
   "outputs": [],
   "source": [
    "sns.set_style(\"white\") \n",
    "sns.set_context(\"paper\", font_scale = 1.75)\n",
    "\n",
    "plot = sns.regplot(data = data,\n",
    "                   x    = \"Emo\", \n",
    "                   y    = \"Symp\")\n",
    "\n",
    "plot.figure.set_size_inches(8, 5)\n",
    "plot.set(xlabel = 'Emotion Regulation Score', ylabel = 'Symptom Score')\n",
    "plt.show()"
   ]
  },
  {
   "cell_type": "markdown",
   "metadata": {},
   "source": [
    " "
   ]
  },
  {
   "cell_type": "markdown",
   "metadata": {},
   "source": [
    "### Jointplot"
   ]
  },
  {
   "cell_type": "markdown",
   "metadata": {},
   "source": [
    "https://seaborn.pydata.org/generated/seaborn.jointplot.html"
   ]
  },
  {
   "cell_type": "code",
   "execution_count": null,
   "metadata": {},
   "outputs": [],
   "source": [
    "sns.set_style(\"white\") \n",
    "sns.set_context(\"paper\", font_scale = 1.75)\n",
    "\n",
    "plot = sns.jointplot(data         = data,\n",
    "                     x            = \"Emo\", \n",
    "                     y            = \"Symp\",\n",
    "                     kind         = \"reg\", \n",
    "                     height       = 6,\n",
    "                     marginal_kws = dict(bins = 20, fill = True))\n",
    "\n",
    "plot.set_axis_labels('Emotion Regulation Score', 'Symptom Score', fontsize = 16)\n",
    "plt.show()"
   ]
  },
  {
   "cell_type": "code",
   "execution_count": null,
   "metadata": {},
   "outputs": [],
   "source": [
    "sns.set_style(\"white\") \n",
    "sns.set_context(\"paper\", font_scale = 1.75)\n",
    "\n",
    "plot = sns.jointplot(data   = data,\n",
    "                     x      = \"Emo\", \n",
    "                     y      = \"Symp\",\n",
    "                     hue    = 'group',\n",
    "                     kind   = \"scatter\",\n",
    "                     height = 6)\n",
    "\n",
    "plot.set_axis_labels('Emotion Regulation', 'Symptom Score', fontsize = 16)\n",
    "plot.ax_joint.legend(title = 'Group')\n",
    "plt.show()"
   ]
  },
  {
   "cell_type": "code",
   "execution_count": null,
   "metadata": {},
   "outputs": [],
   "source": []
  }
 ],
 "metadata": {
  "anaconda-cloud": {},
  "kernelspec": {
   "display_name": "Python 3 (ipykernel)",
   "language": "python",
   "name": "python3"
  },
  "language_info": {
   "codemirror_mode": {
    "name": "ipython",
    "version": 3
   },
   "file_extension": ".py",
   "mimetype": "text/x-python",
   "name": "python",
   "nbconvert_exporter": "python",
   "pygments_lexer": "ipython3",
   "version": "3.11.5"
  }
 },
 "nbformat": 4,
 "nbformat_minor": 4
}
